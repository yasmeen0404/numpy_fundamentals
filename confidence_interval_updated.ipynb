{
  "cells": [
    {
      "cell_type": "markdown",
      "metadata": {
        "id": "view-in-github",
        "colab_type": "text"
      },
      "source": [
        "<a href=\"https://colab.research.google.com/github/yasmeen0404/numpy_fundamentals/blob/main/confidence_interval_updated.ipynb\" target=\"_parent\"><img src=\"https://colab.research.google.com/assets/colab-badge.svg\" alt=\"Open In Colab\"/></a>"
      ]
    },
    {
      "cell_type": "code",
      "execution_count": null,
      "metadata": {
        "ExecuteTime": {
          "end_time": "2022-12-09T04:40:41.349278Z",
          "start_time": "2022-12-09T04:40:39.672372Z"
        },
        "id": "Nyw2e3yAKzuU"
      },
      "outputs": [],
      "source": [
        "from scipy import stats\n",
        "import pandas as pd\n",
        "import numpy as np\n"
      ]
    },
    {
      "cell_type": "code",
      "execution_count": null,
      "metadata": {
        "ExecuteTime": {
          "end_time": "2022-12-09T04:40:42.851963Z",
          "start_time": "2022-12-09T04:40:42.805337Z"
        },
        "id": "-2qs2bw9KzuX",
        "outputId": "fccf8fb6-e2ec-4281-8292-eceadefc5abd"
      },
      "outputs": [
        {
          "name": "stdout",
          "output_type": "stream",
          "text": [
            "            Date      Date.1    Close      gain\n",
            "0     2010-01-05  2010-01-05  1616.80 -0.005444\n",
            "1     2010-01-06  2010-01-06  1638.50  0.013422\n",
            "2     2010-01-07  2010-01-07  1648.70  0.006225\n",
            "3     2010-01-08  2010-01-08  1639.80 -0.005398\n",
            "4     2010-01-11  2010-01-11  1629.45 -0.006312\n",
            "...          ...         ...      ...       ...\n",
            "1733  2016-12-26  2016-12-26  2723.50 -0.001283\n",
            "1734  2016-12-27  2016-12-27  2701.75 -0.007986\n",
            "1735  2016-12-28  2016-12-28  2702.15  0.000148\n",
            "1736  2016-12-29  2016-12-29  2727.90  0.009529\n",
            "1737  2016-12-30  2016-12-30  2729.80  0.000697\n",
            "\n",
            "[1738 rows x 4 columns]\n"
          ]
        }
      ],
      "source": [
        "glaxo_df=pd.read_csv('glaxo_df.csv')\n",
        "print(glaxo_df)"
      ]
    },
    {
      "cell_type": "code",
      "execution_count": null,
      "metadata": {
        "ExecuteTime": {
          "end_time": "2022-12-09T04:44:06.025013Z",
          "start_time": "2022-12-09T04:44:06.010637Z"
        },
        "id": "Pju6RlHwKzuY",
        "outputId": "50c1cf78-e322-4cb4-98d9-c30e44afb5f7"
      },
      "outputs": [
        {
          "name": "stdout",
          "output_type": "stream",
          "text": [
            "Gain at 95% confidence interval is: [-0.0258  0.0266]\n"
          ]
        }
      ],
      "source": [
        "glaxo_df_ci = stats.norm.interval(0.95,\n",
        "loc = glaxo_df.gain.mean(),\n",
        "scale = glaxo_df.gain.std())\n",
        "print( 'Gain at 95% confidence interval is:', np.round(glaxo_df_ci, 4))"
      ]
    },
    {
      "cell_type": "code",
      "execution_count": null,
      "metadata": {
        "ExecuteTime": {
          "end_time": "2022-12-09T04:41:59.721149Z",
          "start_time": "2022-12-09T04:41:59.702295Z"
        },
        "id": "4EU9BPWRKzuZ",
        "outputId": "55504584-b6c8-45d4-c46e-28acc0a0f0be"
      },
      "outputs": [
        {
          "name": "stdout",
          "output_type": "stream",
          "text": [
            "Gain at 90% confidence interval is: [-0.0216  0.0224]\n"
          ]
        }
      ],
      "source": [
        "glaxo_df_ci = stats.norm.interval(0.90,\n",
        "loc = glaxo_df.gain.mean(),\n",
        "scale = glaxo_df.gain.std())\n",
        "print( 'Gain at 90% confidence interval is:', np.round(glaxo_df_ci, 4))"
      ]
    },
    {
      "cell_type": "code",
      "execution_count": null,
      "metadata": {
        "ExecuteTime": {
          "end_time": "2022-12-09T04:42:06.505053Z",
          "start_time": "2022-12-09T04:42:06.494667Z"
        },
        "id": "9ze-dffsKzuZ",
        "outputId": "34efad93-d8f6-48a0-b86e-d3baa5490cd4"
      },
      "outputs": [
        {
          "name": "stdout",
          "output_type": "stream",
          "text": [
            "Gain at 99% confidence interval is: [-0.034   0.0348]\n"
          ]
        }
      ],
      "source": [
        "glaxo_df_ci = stats.norm.interval(0.99,\n",
        "loc = glaxo_df.gain.mean(),\n",
        "scale = glaxo_df.gain.std())\n",
        "print( 'Gain at 99% confidence interval is:', np.round(glaxo_df_ci, 4))"
      ]
    },
    {
      "cell_type": "code",
      "execution_count": null,
      "metadata": {
        "ExecuteTime": {
          "end_time": "2022-11-04T07:01:47.884878Z",
          "start_time": "2022-11-04T07:01:47.840001Z"
        },
        "id": "fIcRwKEgKzua",
        "outputId": "3925dfd6-246e-4cf2-aaee-dd6216dadcc3"
      },
      "outputs": [
        {
          "name": "stdout",
          "output_type": "stream",
          "text": [
            "Gain at 95% confidence interval is: [-0.0515  0.0521]\n"
          ]
        }
      ],
      "source": [
        "beml_df=pd.read_csv('beml_df.csv')\n",
        "\n",
        "beml_df_ci = stats. norm.interval(0.95,\n",
        "loc=beml_df.gain.mean(),\n",
        "scale=beml_df.gain.std())\n",
        "print( 'Gain at 95% confidence interval is:', np.round(beml_df_ci, 4))"
      ]
    },
    {
      "cell_type": "code",
      "execution_count": null,
      "metadata": {
        "ExecuteTime": {
          "end_time": "2022-12-09T05:07:05.768253Z",
          "start_time": "2022-12-09T05:07:05.742445Z"
        },
        "id": "tfVxNoRLKzub",
        "outputId": "2919d259-ed54-495c-ddd9-851e3259ef2b"
      },
      "outputs": [
        {
          "data": {
            "text/plain": [
              "1.959963984540054"
            ]
          },
          "execution_count": 10,
          "metadata": {},
          "output_type": "execute_result"
        }
      ],
      "source": [
        " stats.norm.ppf(0.975)"
      ]
    },
    {
      "cell_type": "code",
      "execution_count": null,
      "metadata": {
        "ExecuteTime": {
          "end_time": "2022-12-09T05:07:55.013039Z",
          "start_time": "2022-12-09T05:07:54.989901Z"
        },
        "id": "gmGn1CR6Kzub",
        "outputId": "44a1b986-7a56-4f1c-983c-c5140236fb9c"
      },
      "outputs": [
        {
          "data": {
            "text/plain": [
              "2.5758293035489004"
            ]
          },
          "execution_count": 11,
          "metadata": {},
          "output_type": "execute_result"
        }
      ],
      "source": [
        "stats.norm.ppf(0.995)"
      ]
    },
    {
      "cell_type": "code",
      "execution_count": null,
      "metadata": {
        "ExecuteTime": {
          "end_time": "2022-12-09T05:08:37.905634Z",
          "start_time": "2022-12-09T05:08:37.887066Z"
        },
        "id": "Na-z4uUbKzuc",
        "outputId": "6ab9ffe0-35f7-4e62-ce09-015a675e71ad"
      },
      "outputs": [
        {
          "data": {
            "text/plain": [
              "1.6448536269514722"
            ]
          },
          "execution_count": 12,
          "metadata": {},
          "output_type": "execute_result"
        }
      ],
      "source": [
        "stats.norm.ppf(0.95)"
      ]
    },
    {
      "cell_type": "code",
      "execution_count": null,
      "metadata": {
        "ExecuteTime": {
          "end_time": "2022-12-09T05:10:21.672160Z",
          "start_time": "2022-12-09T05:10:21.651543Z"
        },
        "id": "H46CTeNIKzuc",
        "outputId": "2e6ffcb5-022f-4104-d347-39cd9a1f22d6"
      },
      "outputs": [
        {
          "data": {
            "text/plain": [
              "1.2815515655446004"
            ]
          },
          "execution_count": 13,
          "metadata": {},
          "output_type": "execute_result"
        }
      ],
      "source": [
        "stats.norm.ppf(0.90)"
      ]
    },
    {
      "cell_type": "code",
      "execution_count": null,
      "metadata": {
        "ExecuteTime": {
          "end_time": "2022-12-09T05:24:36.038350Z",
          "start_time": "2022-12-09T05:24:36.022802Z"
        },
        "id": "WTVkDxHEKzuc",
        "outputId": "9e14fc57-ecac-4f97-85ca-824afe7d55d6"
      },
      "outputs": [
        {
          "data": {
            "text/plain": [
              "1.977177724476122"
            ]
          },
          "execution_count": 14,
          "metadata": {},
          "output_type": "execute_result"
        }
      ],
      "source": [
        "stats.t.ppf(0.975,139)"
      ]
    },
    {
      "cell_type": "code",
      "execution_count": null,
      "metadata": {
        "ExecuteTime": {
          "end_time": "2022-12-09T05:28:09.518512Z",
          "start_time": "2022-12-09T05:28:09.495643Z"
        },
        "id": "Hw4O22FtKzud",
        "outputId": "15b073e3-b792-4126-e42e-5fe0d0046d83"
      },
      "outputs": [
        {
          "data": {
            "text/plain": [
              "(-0.025818392673533995, 0.026590474838718584)"
            ]
          },
          "execution_count": 15,
          "metadata": {},
          "output_type": "execute_result"
        }
      ],
      "source": [
        "stats.t.interval(0.95,1737 ,glaxo_df.gain.mean() , glaxo_df.gain.std())"
      ]
    },
    {
      "cell_type": "code",
      "execution_count": null,
      "metadata": {
        "ExecuteTime": {
          "end_time": "2022-11-04T07:32:23.080322Z",
          "start_time": "2022-11-04T07:32:23.073900Z"
        },
        "id": "iYZmXDp_Kzud",
        "outputId": "a8e2c95d-33b2-4205-a2dc-406f69dc368c"
      },
      "outputs": [
        {
          "data": {
            "text/plain": [
              "(-0.05156885177136771, 0.052110347929482194)"
            ]
          },
          "execution_count": 11,
          "metadata": {},
          "output_type": "execute_result"
        }
      ],
      "source": [
        "stats.t.interval(0.95,1737 ,beml_df.gain.mean() , beml_df.gain.std())"
      ]
    }
  ],
  "metadata": {
    "kernelspec": {
      "display_name": "Python 3 (ipykernel)",
      "language": "python",
      "name": "python3"
    },
    "language_info": {
      "codemirror_mode": {
        "name": "ipython",
        "version": 3
      },
      "file_extension": ".py",
      "mimetype": "text/x-python",
      "name": "python",
      "nbconvert_exporter": "python",
      "pygments_lexer": "ipython3",
      "version": "3.9.7"
    },
    "colab": {
      "provenance": [],
      "include_colab_link": true
    }
  },
  "nbformat": 4,
  "nbformat_minor": 0
}